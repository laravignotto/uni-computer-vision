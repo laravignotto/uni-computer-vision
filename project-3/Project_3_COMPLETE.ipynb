{
  "nbformat": 4,
  "nbformat_minor": 0,
  "metadata": {
    "colab": {
      "name": "Project_3_COMPLETE.ipynb",
      "provenance": [],
      "collapsed_sections": []
    },
    "kernelspec": {
      "name": "python3",
      "display_name": "Python 3"
    },
    "accelerator": "GPU",
    "widgets": {
      "application/vnd.jupyter.widget-state+json": {
        "e59778faac5a43a2944e1e5da6a7dc7b": {
          "model_module": "@jupyter-widgets/controls",
          "model_name": "HBoxModel",
          "state": {
            "_view_name": "HBoxView",
            "_dom_classes": [],
            "_model_name": "HBoxModel",
            "_view_module": "@jupyter-widgets/controls",
            "_model_module_version": "1.5.0",
            "_view_count": null,
            "_view_module_version": "1.5.0",
            "box_style": "",
            "layout": "IPY_MODEL_f5521c5ab7d44d8a875f4547b04c5f16",
            "_model_module": "@jupyter-widgets/controls",
            "children": [
              "IPY_MODEL_3bcaf10e32c24a208599ef4188318f44",
              "IPY_MODEL_5f546cebf9014b63b073e80582f3db16"
            ]
          }
        },
        "f5521c5ab7d44d8a875f4547b04c5f16": {
          "model_module": "@jupyter-widgets/base",
          "model_name": "LayoutModel",
          "state": {
            "_view_name": "LayoutView",
            "grid_template_rows": null,
            "right": null,
            "justify_content": null,
            "_view_module": "@jupyter-widgets/base",
            "overflow": null,
            "_model_module_version": "1.2.0",
            "_view_count": null,
            "flex_flow": null,
            "width": null,
            "min_width": null,
            "border": null,
            "align_items": null,
            "bottom": null,
            "_model_module": "@jupyter-widgets/base",
            "top": null,
            "grid_column": null,
            "overflow_y": null,
            "overflow_x": null,
            "grid_auto_flow": null,
            "grid_area": null,
            "grid_template_columns": null,
            "flex": null,
            "_model_name": "LayoutModel",
            "justify_items": null,
            "grid_row": null,
            "max_height": null,
            "align_content": null,
            "visibility": null,
            "align_self": null,
            "height": null,
            "min_height": null,
            "padding": null,
            "grid_auto_rows": null,
            "grid_gap": null,
            "max_width": null,
            "order": null,
            "_view_module_version": "1.2.0",
            "grid_template_areas": null,
            "object_position": null,
            "object_fit": null,
            "grid_auto_columns": null,
            "margin": null,
            "display": null,
            "left": null
          }
        },
        "3bcaf10e32c24a208599ef4188318f44": {
          "model_module": "@jupyter-widgets/controls",
          "model_name": "FloatProgressModel",
          "state": {
            "_view_name": "ProgressView",
            "style": "IPY_MODEL_e41345745bd545579573a6a0b9d1dcb5",
            "_dom_classes": [],
            "description": "",
            "_model_name": "FloatProgressModel",
            "bar_style": "success",
            "max": 26421880,
            "_view_module": "@jupyter-widgets/controls",
            "_model_module_version": "1.5.0",
            "value": 26421880,
            "_view_count": null,
            "_view_module_version": "1.5.0",
            "orientation": "horizontal",
            "min": 0,
            "description_tooltip": null,
            "_model_module": "@jupyter-widgets/controls",
            "layout": "IPY_MODEL_6d70e6bf36374a3085e7c457ca4fa414"
          }
        },
        "5f546cebf9014b63b073e80582f3db16": {
          "model_module": "@jupyter-widgets/controls",
          "model_name": "HTMLModel",
          "state": {
            "_view_name": "HTMLView",
            "style": "IPY_MODEL_3c243defed334a6d92f973d4082a30d7",
            "_dom_classes": [],
            "description": "",
            "_model_name": "HTMLModel",
            "placeholder": "​",
            "_view_module": "@jupyter-widgets/controls",
            "_model_module_version": "1.5.0",
            "value": " 26422272/? [00:20&lt;00:00, 1296738.98it/s]",
            "_view_count": null,
            "_view_module_version": "1.5.0",
            "description_tooltip": null,
            "_model_module": "@jupyter-widgets/controls",
            "layout": "IPY_MODEL_80763b06721c4630974a285ece9c452c"
          }
        },
        "e41345745bd545579573a6a0b9d1dcb5": {
          "model_module": "@jupyter-widgets/controls",
          "model_name": "ProgressStyleModel",
          "state": {
            "_view_name": "StyleView",
            "_model_name": "ProgressStyleModel",
            "description_width": "initial",
            "_view_module": "@jupyter-widgets/base",
            "_model_module_version": "1.5.0",
            "_view_count": null,
            "_view_module_version": "1.2.0",
            "bar_color": null,
            "_model_module": "@jupyter-widgets/controls"
          }
        },
        "6d70e6bf36374a3085e7c457ca4fa414": {
          "model_module": "@jupyter-widgets/base",
          "model_name": "LayoutModel",
          "state": {
            "_view_name": "LayoutView",
            "grid_template_rows": null,
            "right": null,
            "justify_content": null,
            "_view_module": "@jupyter-widgets/base",
            "overflow": null,
            "_model_module_version": "1.2.0",
            "_view_count": null,
            "flex_flow": null,
            "width": null,
            "min_width": null,
            "border": null,
            "align_items": null,
            "bottom": null,
            "_model_module": "@jupyter-widgets/base",
            "top": null,
            "grid_column": null,
            "overflow_y": null,
            "overflow_x": null,
            "grid_auto_flow": null,
            "grid_area": null,
            "grid_template_columns": null,
            "flex": null,
            "_model_name": "LayoutModel",
            "justify_items": null,
            "grid_row": null,
            "max_height": null,
            "align_content": null,
            "visibility": null,
            "align_self": null,
            "height": null,
            "min_height": null,
            "padding": null,
            "grid_auto_rows": null,
            "grid_gap": null,
            "max_width": null,
            "order": null,
            "_view_module_version": "1.2.0",
            "grid_template_areas": null,
            "object_position": null,
            "object_fit": null,
            "grid_auto_columns": null,
            "margin": null,
            "display": null,
            "left": null
          }
        },
        "3c243defed334a6d92f973d4082a30d7": {
          "model_module": "@jupyter-widgets/controls",
          "model_name": "DescriptionStyleModel",
          "state": {
            "_view_name": "StyleView",
            "_model_name": "DescriptionStyleModel",
            "description_width": "",
            "_view_module": "@jupyter-widgets/base",
            "_model_module_version": "1.5.0",
            "_view_count": null,
            "_view_module_version": "1.2.0",
            "_model_module": "@jupyter-widgets/controls"
          }
        },
        "80763b06721c4630974a285ece9c452c": {
          "model_module": "@jupyter-widgets/base",
          "model_name": "LayoutModel",
          "state": {
            "_view_name": "LayoutView",
            "grid_template_rows": null,
            "right": null,
            "justify_content": null,
            "_view_module": "@jupyter-widgets/base",
            "overflow": null,
            "_model_module_version": "1.2.0",
            "_view_count": null,
            "flex_flow": null,
            "width": null,
            "min_width": null,
            "border": null,
            "align_items": null,
            "bottom": null,
            "_model_module": "@jupyter-widgets/base",
            "top": null,
            "grid_column": null,
            "overflow_y": null,
            "overflow_x": null,
            "grid_auto_flow": null,
            "grid_area": null,
            "grid_template_columns": null,
            "flex": null,
            "_model_name": "LayoutModel",
            "justify_items": null,
            "grid_row": null,
            "max_height": null,
            "align_content": null,
            "visibility": null,
            "align_self": null,
            "height": null,
            "min_height": null,
            "padding": null,
            "grid_auto_rows": null,
            "grid_gap": null,
            "max_width": null,
            "order": null,
            "_view_module_version": "1.2.0",
            "grid_template_areas": null,
            "object_position": null,
            "object_fit": null,
            "grid_auto_columns": null,
            "margin": null,
            "display": null,
            "left": null
          }
        },
        "0c6827e62c06483a99f82ea73e542ae6": {
          "model_module": "@jupyter-widgets/controls",
          "model_name": "HBoxModel",
          "state": {
            "_view_name": "HBoxView",
            "_dom_classes": [],
            "_model_name": "HBoxModel",
            "_view_module": "@jupyter-widgets/controls",
            "_model_module_version": "1.5.0",
            "_view_count": null,
            "_view_module_version": "1.5.0",
            "box_style": "",
            "layout": "IPY_MODEL_46b6560d3869492cb631bf73d399512d",
            "_model_module": "@jupyter-widgets/controls",
            "children": [
              "IPY_MODEL_d1470646f17e4e1eb5712eb54f06d9ff",
              "IPY_MODEL_c1d54c2a7e31423f88a85c579a58b617"
            ]
          }
        },
        "46b6560d3869492cb631bf73d399512d": {
          "model_module": "@jupyter-widgets/base",
          "model_name": "LayoutModel",
          "state": {
            "_view_name": "LayoutView",
            "grid_template_rows": null,
            "right": null,
            "justify_content": null,
            "_view_module": "@jupyter-widgets/base",
            "overflow": null,
            "_model_module_version": "1.2.0",
            "_view_count": null,
            "flex_flow": null,
            "width": null,
            "min_width": null,
            "border": null,
            "align_items": null,
            "bottom": null,
            "_model_module": "@jupyter-widgets/base",
            "top": null,
            "grid_column": null,
            "overflow_y": null,
            "overflow_x": null,
            "grid_auto_flow": null,
            "grid_area": null,
            "grid_template_columns": null,
            "flex": null,
            "_model_name": "LayoutModel",
            "justify_items": null,
            "grid_row": null,
            "max_height": null,
            "align_content": null,
            "visibility": null,
            "align_self": null,
            "height": null,
            "min_height": null,
            "padding": null,
            "grid_auto_rows": null,
            "grid_gap": null,
            "max_width": null,
            "order": null,
            "_view_module_version": "1.2.0",
            "grid_template_areas": null,
            "object_position": null,
            "object_fit": null,
            "grid_auto_columns": null,
            "margin": null,
            "display": null,
            "left": null
          }
        },
        "d1470646f17e4e1eb5712eb54f06d9ff": {
          "model_module": "@jupyter-widgets/controls",
          "model_name": "FloatProgressModel",
          "state": {
            "_view_name": "ProgressView",
            "style": "IPY_MODEL_ea4cb7554f414d7a928156fdeaf5a98a",
            "_dom_classes": [],
            "description": "",
            "_model_name": "FloatProgressModel",
            "bar_style": "success",
            "max": 29515,
            "_view_module": "@jupyter-widgets/controls",
            "_model_module_version": "1.5.0",
            "value": 29515,
            "_view_count": null,
            "_view_module_version": "1.5.0",
            "orientation": "horizontal",
            "min": 0,
            "description_tooltip": null,
            "_model_module": "@jupyter-widgets/controls",
            "layout": "IPY_MODEL_e37636c81bf54c6c964674226b340b57"
          }
        },
        "c1d54c2a7e31423f88a85c579a58b617": {
          "model_module": "@jupyter-widgets/controls",
          "model_name": "HTMLModel",
          "state": {
            "_view_name": "HTMLView",
            "style": "IPY_MODEL_5e458883b26f433882e95536ecb5b70d",
            "_dom_classes": [],
            "description": "",
            "_model_name": "HTMLModel",
            "placeholder": "​",
            "_view_module": "@jupyter-widgets/controls",
            "_model_module_version": "1.5.0",
            "value": " 29696/? [00:14&lt;00:00, 2097.47it/s]",
            "_view_count": null,
            "_view_module_version": "1.5.0",
            "description_tooltip": null,
            "_model_module": "@jupyter-widgets/controls",
            "layout": "IPY_MODEL_30b63bde9413453ba988523f2cdf1a12"
          }
        },
        "ea4cb7554f414d7a928156fdeaf5a98a": {
          "model_module": "@jupyter-widgets/controls",
          "model_name": "ProgressStyleModel",
          "state": {
            "_view_name": "StyleView",
            "_model_name": "ProgressStyleModel",
            "description_width": "initial",
            "_view_module": "@jupyter-widgets/base",
            "_model_module_version": "1.5.0",
            "_view_count": null,
            "_view_module_version": "1.2.0",
            "bar_color": null,
            "_model_module": "@jupyter-widgets/controls"
          }
        },
        "e37636c81bf54c6c964674226b340b57": {
          "model_module": "@jupyter-widgets/base",
          "model_name": "LayoutModel",
          "state": {
            "_view_name": "LayoutView",
            "grid_template_rows": null,
            "right": null,
            "justify_content": null,
            "_view_module": "@jupyter-widgets/base",
            "overflow": null,
            "_model_module_version": "1.2.0",
            "_view_count": null,
            "flex_flow": null,
            "width": null,
            "min_width": null,
            "border": null,
            "align_items": null,
            "bottom": null,
            "_model_module": "@jupyter-widgets/base",
            "top": null,
            "grid_column": null,
            "overflow_y": null,
            "overflow_x": null,
            "grid_auto_flow": null,
            "grid_area": null,
            "grid_template_columns": null,
            "flex": null,
            "_model_name": "LayoutModel",
            "justify_items": null,
            "grid_row": null,
            "max_height": null,
            "align_content": null,
            "visibility": null,
            "align_self": null,
            "height": null,
            "min_height": null,
            "padding": null,
            "grid_auto_rows": null,
            "grid_gap": null,
            "max_width": null,
            "order": null,
            "_view_module_version": "1.2.0",
            "grid_template_areas": null,
            "object_position": null,
            "object_fit": null,
            "grid_auto_columns": null,
            "margin": null,
            "display": null,
            "left": null
          }
        },
        "5e458883b26f433882e95536ecb5b70d": {
          "model_module": "@jupyter-widgets/controls",
          "model_name": "DescriptionStyleModel",
          "state": {
            "_view_name": "StyleView",
            "_model_name": "DescriptionStyleModel",
            "description_width": "",
            "_view_module": "@jupyter-widgets/base",
            "_model_module_version": "1.5.0",
            "_view_count": null,
            "_view_module_version": "1.2.0",
            "_model_module": "@jupyter-widgets/controls"
          }
        },
        "30b63bde9413453ba988523f2cdf1a12": {
          "model_module": "@jupyter-widgets/base",
          "model_name": "LayoutModel",
          "state": {
            "_view_name": "LayoutView",
            "grid_template_rows": null,
            "right": null,
            "justify_content": null,
            "_view_module": "@jupyter-widgets/base",
            "overflow": null,
            "_model_module_version": "1.2.0",
            "_view_count": null,
            "flex_flow": null,
            "width": null,
            "min_width": null,
            "border": null,
            "align_items": null,
            "bottom": null,
            "_model_module": "@jupyter-widgets/base",
            "top": null,
            "grid_column": null,
            "overflow_y": null,
            "overflow_x": null,
            "grid_auto_flow": null,
            "grid_area": null,
            "grid_template_columns": null,
            "flex": null,
            "_model_name": "LayoutModel",
            "justify_items": null,
            "grid_row": null,
            "max_height": null,
            "align_content": null,
            "visibility": null,
            "align_self": null,
            "height": null,
            "min_height": null,
            "padding": null,
            "grid_auto_rows": null,
            "grid_gap": null,
            "max_width": null,
            "order": null,
            "_view_module_version": "1.2.0",
            "grid_template_areas": null,
            "object_position": null,
            "object_fit": null,
            "grid_auto_columns": null,
            "margin": null,
            "display": null,
            "left": null
          }
        },
        "db2e5c19bb10411f8f3384401ccc1696": {
          "model_module": "@jupyter-widgets/controls",
          "model_name": "HBoxModel",
          "state": {
            "_view_name": "HBoxView",
            "_dom_classes": [],
            "_model_name": "HBoxModel",
            "_view_module": "@jupyter-widgets/controls",
            "_model_module_version": "1.5.0",
            "_view_count": null,
            "_view_module_version": "1.5.0",
            "box_style": "",
            "layout": "IPY_MODEL_ccf6e28b9f2248998b73716159853b5d",
            "_model_module": "@jupyter-widgets/controls",
            "children": [
              "IPY_MODEL_257b98cb0f214f01a00ab54936da816f",
              "IPY_MODEL_6be7c36aff914138b14f9bf7e75f8b9e"
            ]
          }
        },
        "ccf6e28b9f2248998b73716159853b5d": {
          "model_module": "@jupyter-widgets/base",
          "model_name": "LayoutModel",
          "state": {
            "_view_name": "LayoutView",
            "grid_template_rows": null,
            "right": null,
            "justify_content": null,
            "_view_module": "@jupyter-widgets/base",
            "overflow": null,
            "_model_module_version": "1.2.0",
            "_view_count": null,
            "flex_flow": null,
            "width": null,
            "min_width": null,
            "border": null,
            "align_items": null,
            "bottom": null,
            "_model_module": "@jupyter-widgets/base",
            "top": null,
            "grid_column": null,
            "overflow_y": null,
            "overflow_x": null,
            "grid_auto_flow": null,
            "grid_area": null,
            "grid_template_columns": null,
            "flex": null,
            "_model_name": "LayoutModel",
            "justify_items": null,
            "grid_row": null,
            "max_height": null,
            "align_content": null,
            "visibility": null,
            "align_self": null,
            "height": null,
            "min_height": null,
            "padding": null,
            "grid_auto_rows": null,
            "grid_gap": null,
            "max_width": null,
            "order": null,
            "_view_module_version": "1.2.0",
            "grid_template_areas": null,
            "object_position": null,
            "object_fit": null,
            "grid_auto_columns": null,
            "margin": null,
            "display": null,
            "left": null
          }
        },
        "257b98cb0f214f01a00ab54936da816f": {
          "model_module": "@jupyter-widgets/controls",
          "model_name": "FloatProgressModel",
          "state": {
            "_view_name": "ProgressView",
            "style": "IPY_MODEL_2b51b9413a58482594b670522aab18bd",
            "_dom_classes": [],
            "description": "",
            "_model_name": "FloatProgressModel",
            "bar_style": "success",
            "max": 4422102,
            "_view_module": "@jupyter-widgets/controls",
            "_model_module_version": "1.5.0",
            "value": 4422102,
            "_view_count": null,
            "_view_module_version": "1.5.0",
            "orientation": "horizontal",
            "min": 0,
            "description_tooltip": null,
            "_model_module": "@jupyter-widgets/controls",
            "layout": "IPY_MODEL_d4c44e5cb9be43d7a18145d3785c9c37"
          }
        },
        "6be7c36aff914138b14f9bf7e75f8b9e": {
          "model_module": "@jupyter-widgets/controls",
          "model_name": "HTMLModel",
          "state": {
            "_view_name": "HTMLView",
            "style": "IPY_MODEL_5b7bc23342164d1fa5f401d8f58f2694",
            "_dom_classes": [],
            "description": "",
            "_model_name": "HTMLModel",
            "placeholder": "​",
            "_view_module": "@jupyter-widgets/controls",
            "_model_module_version": "1.5.0",
            "value": " 4422656/? [00:10&lt;00:00, 413438.42it/s]",
            "_view_count": null,
            "_view_module_version": "1.5.0",
            "description_tooltip": null,
            "_model_module": "@jupyter-widgets/controls",
            "layout": "IPY_MODEL_f0c3575c95214edc9733ac81e2612092"
          }
        },
        "2b51b9413a58482594b670522aab18bd": {
          "model_module": "@jupyter-widgets/controls",
          "model_name": "ProgressStyleModel",
          "state": {
            "_view_name": "StyleView",
            "_model_name": "ProgressStyleModel",
            "description_width": "initial",
            "_view_module": "@jupyter-widgets/base",
            "_model_module_version": "1.5.0",
            "_view_count": null,
            "_view_module_version": "1.2.0",
            "bar_color": null,
            "_model_module": "@jupyter-widgets/controls"
          }
        },
        "d4c44e5cb9be43d7a18145d3785c9c37": {
          "model_module": "@jupyter-widgets/base",
          "model_name": "LayoutModel",
          "state": {
            "_view_name": "LayoutView",
            "grid_template_rows": null,
            "right": null,
            "justify_content": null,
            "_view_module": "@jupyter-widgets/base",
            "overflow": null,
            "_model_module_version": "1.2.0",
            "_view_count": null,
            "flex_flow": null,
            "width": null,
            "min_width": null,
            "border": null,
            "align_items": null,
            "bottom": null,
            "_model_module": "@jupyter-widgets/base",
            "top": null,
            "grid_column": null,
            "overflow_y": null,
            "overflow_x": null,
            "grid_auto_flow": null,
            "grid_area": null,
            "grid_template_columns": null,
            "flex": null,
            "_model_name": "LayoutModel",
            "justify_items": null,
            "grid_row": null,
            "max_height": null,
            "align_content": null,
            "visibility": null,
            "align_self": null,
            "height": null,
            "min_height": null,
            "padding": null,
            "grid_auto_rows": null,
            "grid_gap": null,
            "max_width": null,
            "order": null,
            "_view_module_version": "1.2.0",
            "grid_template_areas": null,
            "object_position": null,
            "object_fit": null,
            "grid_auto_columns": null,
            "margin": null,
            "display": null,
            "left": null
          }
        },
        "5b7bc23342164d1fa5f401d8f58f2694": {
          "model_module": "@jupyter-widgets/controls",
          "model_name": "DescriptionStyleModel",
          "state": {
            "_view_name": "StyleView",
            "_model_name": "DescriptionStyleModel",
            "description_width": "",
            "_view_module": "@jupyter-widgets/base",
            "_model_module_version": "1.5.0",
            "_view_count": null,
            "_view_module_version": "1.2.0",
            "_model_module": "@jupyter-widgets/controls"
          }
        },
        "f0c3575c95214edc9733ac81e2612092": {
          "model_module": "@jupyter-widgets/base",
          "model_name": "LayoutModel",
          "state": {
            "_view_name": "LayoutView",
            "grid_template_rows": null,
            "right": null,
            "justify_content": null,
            "_view_module": "@jupyter-widgets/base",
            "overflow": null,
            "_model_module_version": "1.2.0",
            "_view_count": null,
            "flex_flow": null,
            "width": null,
            "min_width": null,
            "border": null,
            "align_items": null,
            "bottom": null,
            "_model_module": "@jupyter-widgets/base",
            "top": null,
            "grid_column": null,
            "overflow_y": null,
            "overflow_x": null,
            "grid_auto_flow": null,
            "grid_area": null,
            "grid_template_columns": null,
            "flex": null,
            "_model_name": "LayoutModel",
            "justify_items": null,
            "grid_row": null,
            "max_height": null,
            "align_content": null,
            "visibility": null,
            "align_self": null,
            "height": null,
            "min_height": null,
            "padding": null,
            "grid_auto_rows": null,
            "grid_gap": null,
            "max_width": null,
            "order": null,
            "_view_module_version": "1.2.0",
            "grid_template_areas": null,
            "object_position": null,
            "object_fit": null,
            "grid_auto_columns": null,
            "margin": null,
            "display": null,
            "left": null
          }
        },
        "c623bd6d1bf14c05b9e746bde25c5b58": {
          "model_module": "@jupyter-widgets/controls",
          "model_name": "HBoxModel",
          "state": {
            "_view_name": "HBoxView",
            "_dom_classes": [],
            "_model_name": "HBoxModel",
            "_view_module": "@jupyter-widgets/controls",
            "_model_module_version": "1.5.0",
            "_view_count": null,
            "_view_module_version": "1.5.0",
            "box_style": "",
            "layout": "IPY_MODEL_f1972752d2f24cbca79db75607ad871d",
            "_model_module": "@jupyter-widgets/controls",
            "children": [
              "IPY_MODEL_6d31af2f36374db79660d0ba330f69d6",
              "IPY_MODEL_2b3457fde60a4e52bd8206a29f6ad566"
            ]
          }
        },
        "f1972752d2f24cbca79db75607ad871d": {
          "model_module": "@jupyter-widgets/base",
          "model_name": "LayoutModel",
          "state": {
            "_view_name": "LayoutView",
            "grid_template_rows": null,
            "right": null,
            "justify_content": null,
            "_view_module": "@jupyter-widgets/base",
            "overflow": null,
            "_model_module_version": "1.2.0",
            "_view_count": null,
            "flex_flow": null,
            "width": null,
            "min_width": null,
            "border": null,
            "align_items": null,
            "bottom": null,
            "_model_module": "@jupyter-widgets/base",
            "top": null,
            "grid_column": null,
            "overflow_y": null,
            "overflow_x": null,
            "grid_auto_flow": null,
            "grid_area": null,
            "grid_template_columns": null,
            "flex": null,
            "_model_name": "LayoutModel",
            "justify_items": null,
            "grid_row": null,
            "max_height": null,
            "align_content": null,
            "visibility": null,
            "align_self": null,
            "height": null,
            "min_height": null,
            "padding": null,
            "grid_auto_rows": null,
            "grid_gap": null,
            "max_width": null,
            "order": null,
            "_view_module_version": "1.2.0",
            "grid_template_areas": null,
            "object_position": null,
            "object_fit": null,
            "grid_auto_columns": null,
            "margin": null,
            "display": null,
            "left": null
          }
        },
        "6d31af2f36374db79660d0ba330f69d6": {
          "model_module": "@jupyter-widgets/controls",
          "model_name": "FloatProgressModel",
          "state": {
            "_view_name": "ProgressView",
            "style": "IPY_MODEL_bf02c43518c041c887fda920de9b8a1a",
            "_dom_classes": [],
            "description": "",
            "_model_name": "FloatProgressModel",
            "bar_style": "success",
            "max": 5148,
            "_view_module": "@jupyter-widgets/controls",
            "_model_module_version": "1.5.0",
            "value": 5148,
            "_view_count": null,
            "_view_module_version": "1.5.0",
            "orientation": "horizontal",
            "min": 0,
            "description_tooltip": null,
            "_model_module": "@jupyter-widgets/controls",
            "layout": "IPY_MODEL_3b755688645840cfb7c00427ad75143a"
          }
        },
        "2b3457fde60a4e52bd8206a29f6ad566": {
          "model_module": "@jupyter-widgets/controls",
          "model_name": "HTMLModel",
          "state": {
            "_view_name": "HTMLView",
            "style": "IPY_MODEL_ab64eb19ccf94ee3b951a5d8b1ddb9ad",
            "_dom_classes": [],
            "description": "",
            "_model_name": "HTMLModel",
            "placeholder": "​",
            "_view_module": "@jupyter-widgets/controls",
            "_model_module_version": "1.5.0",
            "value": " 6144/? [00:00&lt;00:00, 24744.11it/s]",
            "_view_count": null,
            "_view_module_version": "1.5.0",
            "description_tooltip": null,
            "_model_module": "@jupyter-widgets/controls",
            "layout": "IPY_MODEL_ef90b9dccf7249c89245b5c9bc0ae413"
          }
        },
        "bf02c43518c041c887fda920de9b8a1a": {
          "model_module": "@jupyter-widgets/controls",
          "model_name": "ProgressStyleModel",
          "state": {
            "_view_name": "StyleView",
            "_model_name": "ProgressStyleModel",
            "description_width": "initial",
            "_view_module": "@jupyter-widgets/base",
            "_model_module_version": "1.5.0",
            "_view_count": null,
            "_view_module_version": "1.2.0",
            "bar_color": null,
            "_model_module": "@jupyter-widgets/controls"
          }
        },
        "3b755688645840cfb7c00427ad75143a": {
          "model_module": "@jupyter-widgets/base",
          "model_name": "LayoutModel",
          "state": {
            "_view_name": "LayoutView",
            "grid_template_rows": null,
            "right": null,
            "justify_content": null,
            "_view_module": "@jupyter-widgets/base",
            "overflow": null,
            "_model_module_version": "1.2.0",
            "_view_count": null,
            "flex_flow": null,
            "width": null,
            "min_width": null,
            "border": null,
            "align_items": null,
            "bottom": null,
            "_model_module": "@jupyter-widgets/base",
            "top": null,
            "grid_column": null,
            "overflow_y": null,
            "overflow_x": null,
            "grid_auto_flow": null,
            "grid_area": null,
            "grid_template_columns": null,
            "flex": null,
            "_model_name": "LayoutModel",
            "justify_items": null,
            "grid_row": null,
            "max_height": null,
            "align_content": null,
            "visibility": null,
            "align_self": null,
            "height": null,
            "min_height": null,
            "padding": null,
            "grid_auto_rows": null,
            "grid_gap": null,
            "max_width": null,
            "order": null,
            "_view_module_version": "1.2.0",
            "grid_template_areas": null,
            "object_position": null,
            "object_fit": null,
            "grid_auto_columns": null,
            "margin": null,
            "display": null,
            "left": null
          }
        },
        "ab64eb19ccf94ee3b951a5d8b1ddb9ad": {
          "model_module": "@jupyter-widgets/controls",
          "model_name": "DescriptionStyleModel",
          "state": {
            "_view_name": "StyleView",
            "_model_name": "DescriptionStyleModel",
            "description_width": "",
            "_view_module": "@jupyter-widgets/base",
            "_model_module_version": "1.5.0",
            "_view_count": null,
            "_view_module_version": "1.2.0",
            "_model_module": "@jupyter-widgets/controls"
          }
        },
        "ef90b9dccf7249c89245b5c9bc0ae413": {
          "model_module": "@jupyter-widgets/base",
          "model_name": "LayoutModel",
          "state": {
            "_view_name": "LayoutView",
            "grid_template_rows": null,
            "right": null,
            "justify_content": null,
            "_view_module": "@jupyter-widgets/base",
            "overflow": null,
            "_model_module_version": "1.2.0",
            "_view_count": null,
            "flex_flow": null,
            "width": null,
            "min_width": null,
            "border": null,
            "align_items": null,
            "bottom": null,
            "_model_module": "@jupyter-widgets/base",
            "top": null,
            "grid_column": null,
            "overflow_y": null,
            "overflow_x": null,
            "grid_auto_flow": null,
            "grid_area": null,
            "grid_template_columns": null,
            "flex": null,
            "_model_name": "LayoutModel",
            "justify_items": null,
            "grid_row": null,
            "max_height": null,
            "align_content": null,
            "visibility": null,
            "align_self": null,
            "height": null,
            "min_height": null,
            "padding": null,
            "grid_auto_rows": null,
            "grid_gap": null,
            "max_width": null,
            "order": null,
            "_view_module_version": "1.2.0",
            "grid_template_areas": null,
            "object_position": null,
            "object_fit": null,
            "grid_auto_columns": null,
            "margin": null,
            "display": null,
            "left": null
          }
        }
      }
    }
  },
  "cells": [
    {
      "cell_type": "markdown",
      "metadata": {
        "id": "HQfGoK4btj8h"
      },
      "source": [
        "# Project 2: Denoising Neural Network for Fashion MNIST Dataset\n",
        "\n",
        "---\n",
        "\n",
        "## Introduction\n",
        "This report is divided into 5 parts and 14 chapters. In Parts I, II and III we will construct and analyze a Denoising Neural Network, while in Parts IV and V we will implement a \"traditional\" Gaussian filter.\n",
        "\n",
        "**Part I : Training**\n",
        "* *1. Goals*\n",
        "* *2. Model and architecture of the network*\n",
        "* *3. Data preparation*\n",
        "* *4. Training procedures*\n",
        "\n",
        "**Part II: Testing**\n",
        "* *5. Test and performance evaluations*\n",
        "* *6. Results, observations and conclusions*\n",
        "\n",
        "**Part III: Code**\n",
        "* *7. Complete code (parts I and II)*\n",
        "\n",
        "**Part IV: Traditional Filtering**\n",
        "* *8. Goals*\n",
        "* *9. Noise adding*\n",
        "* *10. Noise removing*\n",
        "* *11. Test and performance evaluations*\n",
        "* *12. Results, observations and conclusions*\n",
        "* *13. Comparison between NN and traditional technique*\n",
        "\n",
        "**Part V: Code**\n",
        "* *14. Complete code (part IV)*\n",
        "\n"
      ]
    },
    {
      "cell_type": "markdown",
      "metadata": {
        "id": "biND9z4RDlMB"
      },
      "source": [
        "# Part I: Training"
      ]
    },
    {
      "cell_type": "markdown",
      "metadata": {
        "id": "wNytx4_GB1X7"
      },
      "source": [
        "\n",
        "## 1. Goals\n",
        "The aim of this project is to implement and train a Denoising Convolutional Autoencoder Network for image reconstruction, and to test it and analyze the results. We will use the Fashion MNIST image dataset and manually add noise to the images.\n",
        "\n",
        "By giving noisy images as inputs to the Autoencoder NN, the encoder part will compress them, and the decoder will reconstruct the original denoised images from the compressed representation. Finally, we will see how well the model performs after training by giving it some test images for denoising and reconstruction."
      ]
    },
    {
      "cell_type": "markdown",
      "metadata": {
        "id": "GPBtPuCtngQf"
      },
      "source": [
        "### Assignments\n",
        "\n",
        "1. Complete all TODOs.\n",
        "\n",
        "2. Change the variance used to add noise to the images. Try at least two different values: 0.01, 0.05.\n",
        "\n",
        "3. After collecting and presenting the results of point 2, start a new computation by fixing the `VARIANCE_TRAINING` at 0.001, and removing the following network layers (pay attention to the number of input/output channels):\n",
        "  * Convolutional layer 4, and transposed convolutional layer 1\n",
        "  * Convolutional layers 3 and 4, and transposed convolutional layers 1 and 2\n",
        "\n",
        "Present the results of point 3. How do they compare to the full architecture? Run the training 5 times for each change to obtain more meaningful results.\n",
        "\n",
        "4. Discuss your results in the conclusions in a clear and motivated fashion."
      ]
    },
    {
      "cell_type": "markdown",
      "metadata": {
        "id": "Bo9CwrjgB4En"
      },
      "source": [
        "## 2. Model and architecture of the network\n",
        "The Autoencoder NN is divided into an encoder part and a symmetric decoder part.\n",
        "* **Encoder layers**\n",
        "  * *Convolutional layer 1*: input channels = 1 (grayscale image), output channels = 64 (number of kernels), kernel size = 3, padding = 1; \n",
        "  * *Convolutional layer 2*: input channels = 64, output channels = 32, kernel size = 3, padding = 1;\n",
        "  * *Convolutional layer 3*: input channels = 32, output channels = 16, kernel size = 3, padding = 1;\n",
        "  * *Convolutional layer 4*: input channels = 16, output channels = 8, kernel size = 3, padding = 1;\n",
        "  * *Max Pooling layer*: size = 2x2;\n",
        "* **Decoder layers**\n",
        "  * *Transposed Convolutional layer 1*:  input channels = 8, output channels = 8, kernel size = 3, stride = 2;\n",
        "  * *Transposed Convolutional layer 2*:  input channels = 8, output channels = 16, kernel size = 3, stride = 2;\n",
        "  * *Transposed Convolutional layer 3*:  input channels = 16, output channels = 32, kernel size = 2, stride = 2;\n",
        "  * *Transposed Convolutional layer 4*:  input channels = 32, output channels = 64, kernel size = 2, stride = 2;\n",
        "  * *Convolutional layer (output)*:  input channels = 64, output channels = 1, kernel size = 3, padding = 1.\n",
        "\n",
        "Each of the encoding layers is passed through the ReLU activation function, and there is a max pooling layer after each convolutional layer. After the last pooling layer we get the latent space code representation of the input data.\n",
        "\n",
        "Similarly, every transposed convolutional layer is passed through the ReLU function, and the final convolutional layer uses the sigmoid activation function.\n",
        "\n",
        "![Trained CNN Architecture](https://drive.google.com/uc?id=1cqMWn13qhPi5Cb3eMiXeJhyedJR460Pa)\n",
        "\n"
      ]
    },
    {
      "cell_type": "markdown",
      "metadata": {
        "id": "jslIWgiIu97R"
      },
      "source": [
        "## 3. Data preparation\n"
      ]
    },
    {
      "cell_type": "markdown",
      "metadata": {
        "id": "K1fqPpEDIx0l"
      },
      "source": [
        "\n",
        "### Imports and costants\n",
        "\n",
        "First, we import all the useful modules."
      ]
    },
    {
      "cell_type": "code",
      "metadata": {
        "id": "1HktSL6uyiVB"
      },
      "source": [
        "import numpy as np\n",
        "import math\n",
        "import matplotlib.pyplot as plt\n",
        "\n",
        "import torch\n",
        "import torch.nn as nn\n",
        "\n",
        "import torchvision\n",
        "import torchvision.transforms as transforms"
      ],
      "execution_count": null,
      "outputs": []
    },
    {
      "cell_type": "markdown",
      "metadata": {
        "id": "Jd82hRHu10ry"
      },
      "source": [
        "Then, we define some useful constants. We will train the network for 8 epochs, with a learning rate of 0.001 and a batch size of 16. The `VARIANCE_TRAINING` defines the amount of noise we will add to the images.\n",
        "\n",
        "We will use the GPU for the computation if available, otherwise the CPU will be used."
      ]
    },
    {
      "cell_type": "code",
      "metadata": {
        "id": "dxcLA6viyoeY"
      },
      "source": [
        "# constants\n",
        "NUM_EPOCHS = 8\n",
        "LEARNING_RATE = 0.001\n",
        "BATCH_SIZE = 16\n",
        "VARIANCE_TRAINING = 0.001\n",
        "SD_TRAINING = math.sqrt(VARIANCE_TRAINING)\n",
        "\n",
        "# if available use GPU, else use CPU\n",
        "device = torch.device(\"cuda:0\" if torch.cuda.is_available() else \"cpu\")"
      ],
      "execution_count": null,
      "outputs": []
    },
    {
      "cell_type": "markdown",
      "metadata": {
        "id": "06Klf1iC24fm"
      },
      "source": [
        "### Load the data\n",
        "\n",
        "We prepare the training set and test set."
      ]
    },
    {
      "cell_type": "code",
      "metadata": {
        "id": "elLo4C3ryu20",
        "colab": {
          "base_uri": "https://localhost:8080/",
          "height": 467,
          "referenced_widgets": [
            "e59778faac5a43a2944e1e5da6a7dc7b",
            "f5521c5ab7d44d8a875f4547b04c5f16",
            "3bcaf10e32c24a208599ef4188318f44",
            "5f546cebf9014b63b073e80582f3db16",
            "e41345745bd545579573a6a0b9d1dcb5",
            "6d70e6bf36374a3085e7c457ca4fa414",
            "3c243defed334a6d92f973d4082a30d7",
            "80763b06721c4630974a285ece9c452c",
            "0c6827e62c06483a99f82ea73e542ae6",
            "46b6560d3869492cb631bf73d399512d",
            "d1470646f17e4e1eb5712eb54f06d9ff",
            "c1d54c2a7e31423f88a85c579a58b617",
            "ea4cb7554f414d7a928156fdeaf5a98a",
            "e37636c81bf54c6c964674226b340b57",
            "5e458883b26f433882e95536ecb5b70d",
            "30b63bde9413453ba988523f2cdf1a12",
            "db2e5c19bb10411f8f3384401ccc1696",
            "ccf6e28b9f2248998b73716159853b5d",
            "257b98cb0f214f01a00ab54936da816f",
            "6be7c36aff914138b14f9bf7e75f8b9e",
            "2b51b9413a58482594b670522aab18bd",
            "d4c44e5cb9be43d7a18145d3785c9c37",
            "5b7bc23342164d1fa5f401d8f58f2694",
            "f0c3575c95214edc9733ac81e2612092",
            "c623bd6d1bf14c05b9e746bde25c5b58",
            "f1972752d2f24cbca79db75607ad871d",
            "6d31af2f36374db79660d0ba330f69d6",
            "2b3457fde60a4e52bd8206a29f6ad566",
            "bf02c43518c041c887fda920de9b8a1a",
            "3b755688645840cfb7c00427ad75143a",
            "ab64eb19ccf94ee3b951a5d8b1ddb9ad",
            "ef90b9dccf7249c89245b5c9bc0ae413"
          ]
        },
        "outputId": "d746f57a-e362-44dc-e5b8-ba25bd3a38fa"
      },
      "source": [
        "# transforms\n",
        "transform = transforms.Compose([\n",
        "    transforms.ToTensor(), # converting image pixel data to tensors\n",
        "    transforms.Normalize((0.5,), (0.5,)), # normalizing in the range [0,1]\n",
        "])\n",
        "\n",
        "# download the FashionMNIST dataset into a training set and a test set\n",
        "train_set = torchvision.datasets.FashionMNIST(\n",
        "    root='./data',\n",
        "    train=True, \n",
        "    download=True,\n",
        "    transform=transform\n",
        ")\n",
        "test_set = torchvision.datasets.FashionMNIST(\n",
        "    root='./data',\n",
        "    train=False,\n",
        "    download=True,\n",
        "    transform=transform\n",
        ")\n",
        "\n",
        "# load the training set and the test set\n",
        "train_loader = torch.utils.data.DataLoader(\n",
        "    train_set, \n",
        "    batch_size=BATCH_SIZE,\n",
        "    shuffle=True\n",
        ")\n",
        "test_loader = torch.utils.data.DataLoader(\n",
        "    test_set, \n",
        "    batch_size=BATCH_SIZE, \n",
        "    shuffle=True\n",
        ")\n",
        "\n",
        "# check training set and test set size\n",
        "print(\"Training set size:\", len(train_set)) # 60000\n",
        "print(\"Test set size:\", len(test_set)) # 10000"
      ],
      "execution_count": null,
      "outputs": [
        {
          "output_type": "stream",
          "text": [
            "Downloading http://fashion-mnist.s3-website.eu-central-1.amazonaws.com/train-images-idx3-ubyte.gz to ./data/FashionMNIST/raw/train-images-idx3-ubyte.gz\n"
          ],
          "name": "stdout"
        },
        {
          "output_type": "display_data",
          "data": {
            "application/vnd.jupyter.widget-view+json": {
              "model_id": "e59778faac5a43a2944e1e5da6a7dc7b",
              "version_minor": 0,
              "version_major": 2
            },
            "text/plain": [
              "HBox(children=(FloatProgress(value=0.0, max=26421880.0), HTML(value='')))"
            ]
          },
          "metadata": {
            "tags": []
          }
        },
        {
          "output_type": "stream",
          "text": [
            "\n",
            "Extracting ./data/FashionMNIST/raw/train-images-idx3-ubyte.gz to ./data/FashionMNIST/raw\n",
            "Downloading http://fashion-mnist.s3-website.eu-central-1.amazonaws.com/train-labels-idx1-ubyte.gz to ./data/FashionMNIST/raw/train-labels-idx1-ubyte.gz\n"
          ],
          "name": "stdout"
        },
        {
          "output_type": "display_data",
          "data": {
            "application/vnd.jupyter.widget-view+json": {
              "model_id": "0c6827e62c06483a99f82ea73e542ae6",
              "version_minor": 0,
              "version_major": 2
            },
            "text/plain": [
              "HBox(children=(FloatProgress(value=0.0, max=29515.0), HTML(value='')))"
            ]
          },
          "metadata": {
            "tags": []
          }
        },
        {
          "output_type": "stream",
          "text": [
            "\n",
            "Extracting ./data/FashionMNIST/raw/train-labels-idx1-ubyte.gz to ./data/FashionMNIST/raw\n",
            "Downloading http://fashion-mnist.s3-website.eu-central-1.amazonaws.com/t10k-images-idx3-ubyte.gz to ./data/FashionMNIST/raw/t10k-images-idx3-ubyte.gz\n"
          ],
          "name": "stdout"
        },
        {
          "output_type": "display_data",
          "data": {
            "application/vnd.jupyter.widget-view+json": {
              "model_id": "db2e5c19bb10411f8f3384401ccc1696",
              "version_minor": 0,
              "version_major": 2
            },
            "text/plain": [
              "HBox(children=(FloatProgress(value=0.0, max=4422102.0), HTML(value='')))"
            ]
          },
          "metadata": {
            "tags": []
          }
        },
        {
          "output_type": "stream",
          "text": [
            "\n",
            "Extracting ./data/FashionMNIST/raw/t10k-images-idx3-ubyte.gz to ./data/FashionMNIST/raw\n",
            "Downloading http://fashion-mnist.s3-website.eu-central-1.amazonaws.com/t10k-labels-idx1-ubyte.gz to ./data/FashionMNIST/raw/t10k-labels-idx1-ubyte.gz\n"
          ],
          "name": "stdout"
        },
        {
          "output_type": "display_data",
          "data": {
            "application/vnd.jupyter.widget-view+json": {
              "model_id": "c623bd6d1bf14c05b9e746bde25c5b58",
              "version_minor": 0,
              "version_major": 2
            },
            "text/plain": [
              "HBox(children=(FloatProgress(value=0.0, max=5148.0), HTML(value='')))"
            ]
          },
          "metadata": {
            "tags": []
          }
        },
        {
          "output_type": "stream",
          "text": [
            "\n",
            "Extracting ./data/FashionMNIST/raw/t10k-labels-idx1-ubyte.gz to ./data/FashionMNIST/raw\n",
            "Processing...\n",
            "Done!\n",
            "Training set size: 60000\n",
            "Test set size: 10000\n"
          ],
          "name": "stdout"
        },
        {
          "output_type": "stream",
          "text": [
            "/usr/local/lib/python3.7/dist-packages/torchvision/datasets/mnist.py:479: UserWarning: The given NumPy array is not writeable, and PyTorch does not support non-writeable tensors. This means you can write to the underlying (supposedly non-writeable) NumPy array using the tensor. You may want to copy the array to protect its data or make it writeable before converting it to a tensor. This type of warning will be suppressed for the rest of this program. (Triggered internally at  /pytorch/torch/csrc/utils/tensor_numpy.cpp:143.)\n",
            "  return torch.from_numpy(parsed.astype(m[2], copy=False)).view(*s)\n"
          ],
          "name": "stderr"
        }
      ]
    },
    {
      "cell_type": "markdown",
      "metadata": {
        "id": "Rx9cdaxs4Fk2"
      },
      "source": [
        "### Visualize training data\n",
        "\n",
        "Let's visualize 20 random images from the training set, with their respective label."
      ]
    },
    {
      "cell_type": "code",
      "metadata": {
        "id": "sgj4YFnyy_tb",
        "colab": {
          "base_uri": "https://localhost:8080/",
          "height": 481
        },
        "outputId": "48550236-72d7-4585-c83a-883ecd8d3fc8"
      },
      "source": [
        "labels_map = {\n",
        "    0: \"T-Shirt\",\n",
        "    1: \"Trouser\",\n",
        "    2: \"Pullover\",\n",
        "    3: \"Dress\",\n",
        "    4: \"Coat\",\n",
        "    5: \"Sandal\",\n",
        "    6: \"Shirt\",\n",
        "    7: \"Sneaker\",\n",
        "    8: \"Bag\",\n",
        "    9: \"Ankle Boot\",\n",
        "}\n",
        "\n",
        "figure = plt.figure(figsize=(8, 8))\n",
        "cols, rows = 5, 4\n",
        "for i in range(1, cols * rows + 1):\n",
        "    sample_idx = torch.randint(len(train_set), size=(1,)).item()\n",
        "    img, label = train_set[sample_idx]\n",
        "    figure.add_subplot(rows, cols, i)\n",
        "    plt.title(labels_map[label])\n",
        "    plt.imshow(img.squeeze(), cmap=\"gray_r\")\n",
        "plt.show()"
      ],
      "execution_count": null,
      "outputs": [
        {
          "output_type": "display_data",
          "data": {
            "image/png": "[encoded data removed]",
            "text/plain": [
              "<Figure size 576x576 with 20 Axes>"
            ]
          },
          "metadata": {
            "tags": [],
            "needs_background": "light"
          }
        }
      ]
    },
    {
      "cell_type": "markdown",
      "metadata": {
        "id": "ALwxei4S4bUq"
      },
      "source": [
        "## 4. Training procedures\n",
        "\n"
      ]
    },
    {
      "cell_type": "markdown",
      "metadata": {
        "id": "z01FMA9qI2IH"
      },
      "source": [
        "### Define the autoencoder NN architecture\n",
        "\n",
        "We define all the layers we will require in the `Autoencoder` class constructor, and build the neural network in the `forward()` function.\n",
        "\n",
        "We istantiate a `model` object and print it to see the architecture."
      ]
    },
    {
      "cell_type": "code",
      "metadata": {
        "colab": {
          "base_uri": "https://localhost:8080/"
        },
        "id": "LzRInK51zlI4",
        "outputId": "140c1b3a-c364-43c7-e860-75636c933fad"
      },
      "source": [
        "# the autoencoder network\n",
        "class Autoencoder(nn.Module):\n",
        "\n",
        "    def __init__(self):\n",
        "        super(Autoencoder, self).__init__()\n",
        "        # encoder layers\n",
        "        self.enc1 = nn.Conv2d(1, 64, kernel_size=3, padding=1)\n",
        "        self.enc2 = nn.Conv2d(64, 32, kernel_size=3, padding=1)\n",
        "        self.enc3 = nn.Conv2d(32, 16, kernel_size=3, padding=1)\n",
        "        self.enc4 = nn.Conv2d(16, 8, kernel_size=3, padding=1)\n",
        "        self.pool = nn.MaxPool2d(2, 2)\n",
        "        \n",
        "        # decoder layers\n",
        "        self.dec1 = nn.ConvTranspose2d(8, 8, kernel_size=3, stride=2)  \n",
        "        self.dec2 = nn.ConvTranspose2d(8, 16, kernel_size=3, stride=2)\n",
        "        self.dec3 = nn.ConvTranspose2d(16, 32, kernel_size=2, stride=2)\n",
        "        self.dec4 = nn.ConvTranspose2d(32, 64, kernel_size=2, stride=2)\n",
        "        self.output = nn.Conv2d(64, 1, kernel_size=3, padding=1)\n",
        "\n",
        "    def forward(self, x):\n",
        "        # encoding\n",
        "        out = torch.nn.functional.relu(self.enc1(x))\n",
        "        out = self.pool(out)\n",
        "        out = torch.nn.functional.relu(self.enc2(out))\n",
        "        out = self.pool(out)\n",
        "        out = torch.nn.functional.relu(self.enc3(out))\n",
        "        out = self.pool(out)\n",
        "        out = torch.nn.functional.relu(self.enc4(out))\n",
        "        out = self.pool(out) # latent space representation\n",
        "        \n",
        "        # decoding\n",
        "        out = torch.nn.functional.relu(self.dec1(out))\n",
        "        out = torch.nn.functional.relu(self.dec2(out))\n",
        "        out = torch.nn.functional.relu(self.dec3(out))\n",
        "        out = torch.nn.functional.relu(self.dec4(out))\n",
        "        out = torch.sigmoid(self.output(out))\n",
        "\n",
        "        return out\n",
        "\n",
        "# create a model\n",
        "model = Autoencoder()\n",
        "print(model)"
      ],
      "execution_count": null,
      "outputs": [
        {
          "output_type": "stream",
          "text": [
            "Autoencoder(\n",
            "  (enc1): Conv2d(1, 64, kernel_size=(3, 3), stride=(1, 1), padding=(1, 1))\n",
            "  (enc2): Conv2d(64, 32, kernel_size=(3, 3), stride=(1, 1), padding=(1, 1))\n",
            "  (enc3): Conv2d(32, 16, kernel_size=(3, 3), stride=(1, 1), padding=(1, 1))\n",
            "  (enc4): Conv2d(16, 8, kernel_size=(3, 3), stride=(1, 1), padding=(1, 1))\n",
            "  (pool): MaxPool2d(kernel_size=2, stride=2, padding=0, dilation=1, ceil_mode=False)\n",
            "  (dec1): ConvTranspose2d(8, 8, kernel_size=(3, 3), stride=(2, 2))\n",
            "  (dec2): ConvTranspose2d(8, 16, kernel_size=(3, 3), stride=(2, 2))\n",
            "  (dec3): ConvTranspose2d(16, 32, kernel_size=(2, 2), stride=(2, 2))\n",
            "  (dec4): ConvTranspose2d(32, 64, kernel_size=(2, 2), stride=(2, 2))\n",
            "  (out): Conv2d(64, 1, kernel_size=(3, 3), stride=(1, 1), padding=(1, 1))\n",
            ")\n"
          ],
          "name": "stdout"
        }
      ]
    },
    {
      "cell_type": "markdown",
      "metadata": {
        "id": "gWhjDhIE6Iw_"
      },
      "source": [
        "### Model training\n",
        "\n",
        "We will write the training function. First, we define the loss function, in our case the Mean Squared Error, and the optimization algorithm, Adam.\n",
        "\n",
        "The training function loops over the epochs and batch by batch. It returns the training loss data."
      ]
    },
    {
      "cell_type": "code",
      "metadata": {
        "id": "j7jcqtL_0NaJ"
      },
      "source": [
        "# the loss function\n",
        "error = nn.MSELoss()\n",
        "# the optimizer\n",
        "optimizer = torch.optim.Adam(model.parameters(), lr=LEARNING_RATE)\n",
        "\n",
        "# the training function\n",
        "def train(model, train_loader, NUM_EPOCHS):\n",
        "    train_loss = []\n",
        "\n",
        "    for epoch in range(NUM_EPOCHS):\n",
        "        running_loss = 0.0\n",
        "        for data in train_loader:\n",
        "            img, _ = data # we do not need the image labels\n",
        "\n",
        "            # add noise to the image data\n",
        "            img_noisy = img + SD_TRAINING * torch.randn(img.shape)\n",
        "\n",
        "            # clip to make the values fall between 0 and 1\n",
        "            img_noisy = np.clip(img_noisy, 0., 1.)\n",
        "\n",
        "            # load the noisy images to the computation device \n",
        "            img_noisy = img_noisy.to(device)\n",
        "\n",
        "            # set the gradients to zero\n",
        "            optimizer.zero_grad()\n",
        "            \n",
        "            # feedforward pass\n",
        "            outputs = model(img_noisy)\n",
        "            loss = error(outputs, img_noisy)\n",
        "\n",
        "            # backpropagation\n",
        "            loss.backward()\n",
        "\n",
        "            # update the parameters\n",
        "            optimizer.step()\n",
        "            running_loss += loss.item()\n",
        "\n",
        "        loss = running_loss / len(train_loader)\n",
        "        train_loss.append(loss)\n",
        "        print('Epoch {} of {}, Train Loss: {:.4f}'.format(epoch+1, NUM_EPOCHS, loss))\n",
        "\n",
        "    return train_loss"
      ],
      "execution_count": null,
      "outputs": []
    },
    {
      "cell_type": "markdown",
      "metadata": {
        "id": "bQw2kkufncgT"
      },
      "source": [
        "Notice that when we add noise to the image we use `torch.randn`, which returns a tensor filled with random numbers from a normal distribution with mean 0 and variance 1. To change the variance we defined the constant `VARIANCE_TRAINING`, and multiplied the tensor with its square root (`SD_TRAINING`), that is the standard deviation.\n",
        "\n",
        "We call the `train` function and execute the training process."
      ]
    },
    {
      "cell_type": "code",
      "metadata": {
        "colab": {
          "base_uri": "https://localhost:8080/"
        },
        "id": "InacR94GbgNH",
        "outputId": "491e9a3e-e8dd-4028-e7bd-3b18c2f2c83e"
      },
      "source": [
        "model.to(device)\n",
        "\n",
        "train_loss = train(model, train_loader, NUM_EPOCHS)"
      ],
      "execution_count": null,
      "outputs": [
        {
          "output_type": "stream",
          "text": [
            "Epoch 1 of 8, Train Loss: 0.0207\n",
            "Epoch 2 of 8, Train Loss: 0.0205\n",
            "Epoch 3 of 8, Train Loss: 0.0204\n",
            "Epoch 4 of 8, Train Loss: 0.0203\n",
            "Epoch 5 of 8, Train Loss: 0.0203\n",
            "Epoch 6 of 8, Train Loss: 0.0202\n",
            "Epoch 7 of 8, Train Loss: 0.0201\n",
            "Epoch 8 of 8, Train Loss: 0.0201\n"
          ],
          "name": "stdout"
        }
      ]
    },
    {
      "cell_type": "markdown",
      "metadata": {
        "id": "IlrGSOjtENLH"
      },
      "source": [
        "# Part II: Testing"
      ]
    },
    {
      "cell_type": "markdown",
      "metadata": {
        "id": "p37Qe1PJgLlb"
      },
      "source": [
        "## 5. Test and performance evaluations\n",
        "\n"
      ]
    },
    {
      "cell_type": "markdown",
      "metadata": {
        "id": "hsxQeofMI6W3"
      },
      "source": [
        "### Loss curve\n",
        "\n",
        "We plot the training loss data over the epochs."
      ]
    },
    {
      "cell_type": "code",
      "metadata": {
        "colab": {
          "base_uri": "https://localhost:8080/",
          "height": 295
        },
        "id": "EhMQqu8zb5Fv",
        "outputId": "1056f028-095c-48fb-c03f-70058b251d12"
      },
      "source": [
        "# loss curve\n",
        "plt.figure()\n",
        "plt.plot(train_loss)\n",
        "plt.title('Loss Curve (Training)')\n",
        "plt.xlabel('Epoch')\n",
        "plt.ylabel('Loss')\n",
        "plt.show()"
      ],
      "execution_count": null,
      "outputs": [
        {
          "output_type": "display_data",
          "data": {
            "image/png": "[encoded data removed]",
            "text/plain": [
              "<Figure size 432x288 with 1 Axes>"
            ]
          },
          "metadata": {
            "tags": [],
            "needs_background": "light"
          }
        }
      ]
    },
    {
      "cell_type": "markdown",
      "metadata": {
        "id": "mt8rKNNpn-XW"
      },
      "source": [
        "### Image reconstruction\n",
        "\n",
        "We define a new function, `test_image_reconstruction`, that adds noise to images never given as inputs to the network, and performs the image reconstructions for just one batch.\n",
        "\n",
        "It also visualizes 5 noisy images and their reconstructions."
      ]
    },
    {
      "cell_type": "code",
      "metadata": {
        "id": "qIoCClPP0WH5"
      },
      "source": [
        "def test_image_reconstruction(model, test_loader):\n",
        "    MSE_noisy_denoised = []\n",
        "    MSE_orig_denoised = []\n",
        "\n",
        "    for batch in test_loader:\n",
        "        img, _ = batch\n",
        "\n",
        "        # add noise to the images\n",
        "        img_noisy = img + SD_TRAINING * torch.randn(img.shape)\n",
        "        img_noisy = np.clip(img_noisy, 0., 1.)\n",
        "        img_noisy = img_noisy.to(device)\n",
        "\n",
        "        # denoise the image with the autoencoder\n",
        "        outputs = model(img_noisy)\n",
        "\n",
        "        # calculate the MSE between noisy image and denoised image\n",
        "        MSE_noisy_denoised.append(error(img_noisy, outputs))\n",
        "\n",
        "        # copy the tensor to host memory\n",
        "        outputs = outputs.view(outputs.size(0), 1, 28, 28).cpu().data\n",
        "        \n",
        "        # calculate the MSE between original image and denoised image\n",
        "        MSE_orig_denoised.append(error(img, outputs))\n",
        "        break\n",
        "\n",
        "    # visualize original, noisy, and reconstructed images\n",
        "    img_noisy = img_noisy.cpu().data\n",
        "    figure = plt.figure(figsize=(16, 11))\n",
        "    cols, rows = 5, 3\n",
        "\n",
        "    for i in range(cols):\n",
        "        # original images\n",
        "        figure.add_subplot(rows, cols, i+1)\n",
        "        img_noisy_show = img[i, :, :, :].permute(1, 2, 0)\n",
        "        plt.title('image no. {}, original'.format(i+1))\n",
        "        plt.imshow(torch.squeeze(img[i]), cmap=\"gray_r\")\n",
        "\n",
        "        # noisy images\n",
        "        figure.add_subplot(rows, cols, i+cols+1)\n",
        "        img_noisy_show = img_noisy[i, :, :, :].permute(1, 2, 0)\n",
        "        plt.title('image no. {}, noisy\\n gaussian noise var: {}'.format(i+1,\n",
        "                                                                        VARIANCE_TRAINING))\n",
        "        plt.imshow(torch.squeeze(img_noisy_show), cmap=\"gray_r\")\n",
        "\n",
        "        # denoised images\n",
        "        figure.add_subplot(rows, cols, i+2*cols+1)\n",
        "        outputs_show = outputs[i, :, :, :].permute(1, 2, 0)\n",
        "        plt.title('image no. {}, reconstructed'.format(i+1))\n",
        "        plt.imshow(torch.squeeze(outputs_show), cmap=\"gray_r\")\n",
        "    plt.show()\n",
        "\n",
        "    # calculate and print the test MSE\n",
        "    mean_MSE_noisy_denoised = sum(MSE_noisy_denoised) / len(MSE_noisy_denoised)\n",
        "    print(\"MSE between noisy images and denoised images: {:.4f}\".format(mean_MSE_noisy_denoised))\n",
        "    mean_MSE_orig_denoised = sum(MSE_orig_denoised) / len(MSE_orig_denoised)\n",
        "    print(\"MSE between original images and denoised images: {:.4f}\".format(mean_MSE_orig_denoised))"
      ],
      "execution_count": null,
      "outputs": []
    },
    {
      "cell_type": "markdown",
      "metadata": {
        "id": "QE2ihr0Jo2Z8"
      },
      "source": [
        "Let's call the test function, print the images, and save the trained network to file."
      ]
    },
    {
      "cell_type": "code",
      "metadata": {
        "colab": {
          "base_uri": "https://localhost:8080/",
          "height": 674
        },
        "id": "fDsryy3Fb_XV",
        "outputId": "ba438492-c7ef-438a-e974-cebb1484cd56"
      },
      "source": [
        "test_image_reconstruction(model, test_loader)\n",
        "\n",
        "torch.save(model.state_dict(), \"saved_denoisingCNN.pth\")"
      ],
      "execution_count": null,
      "outputs": [
        {
          "output_type": "display_data",
          "data": {
            "image/png": "[encoded data removed]",
            "text/plain": [
              "<Figure size 1152x792 with 15 Axes>"
            ]
          },
          "metadata": {
            "tags": [],
            "needs_background": "light"
          }
        },
        {
          "output_type": "stream",
          "text": [
            "MSE between noisy images and denoised images: 0.0189\n",
            "MSE between original images and denoised images: 0.6187\n"
          ],
          "name": "stdout"
        }
      ]
    },
    {
      "cell_type": "markdown",
      "metadata": {
        "id": "aVVKoTewRPTA"
      },
      "source": [
        "## 6. Results, observations and conclusions\n",
        "\n",
        "\n",
        "### Loss curve\n",
        "As we can see from the plot, the error rapidly decreases, and settles at about a value of 0.0203.\n",
        "\n",
        "### Image reconstruction\n",
        "We've been able to print 5 noisy images and their respective reconstructions. With a noise factor of 0.1, some clothes reconstructions are easily recognizable, while others are harder to interpret. The model seems to perform well, but the images look blurry.\n",
        "\n",
        "The MSE between noisy images and denoised images is about 0.0201, and the MSE between original images and denoised images is 0.6615.\n",
        "\n",
        "### Remarks and developements\n",
        "We could try to train and test the network with a lower noise factor, namely with a value of 0.01 and analyze the changes. We can also increase the batch size (for example to to 32 or 64), and subsequently increase the number of epochs. We could also play with the learning rate and take a look at the results.\n",
        "\n",
        "Another option is to train a bigger network, adding more layers to the autoencoder.\n"
      ]
    },
    {
      "cell_type": "markdown",
      "metadata": {
        "id": "Nf02aJ3tEYyU"
      },
      "source": [
        "# Part III: Code"
      ]
    },
    {
      "cell_type": "markdown",
      "metadata": {
        "id": "wH9Tu0Nlth1h"
      },
      "source": [
        "## 7. Full code (parts I and II)\n",
        "\n"
      ]
    },
    {
      "cell_type": "markdown",
      "metadata": {
        "id": "lT_bRigkEjpE"
      },
      "source": [
        "# Part IV: Traditional Filtering"
      ]
    },
    {
      "cell_type": "markdown",
      "metadata": {
        "id": "b-NFmOQJEnHZ"
      },
      "source": [
        "## 8. Goals\n",
        "\n",
        "The aim of this part of the project is to implement a \"traditional\" convolution to denoise images. We will add some gaussian noise to some samples from Fashion MNIST, define and apply a Gaussian filter to them, and compare this method with the results from the Convolutional Neural Network."
      ]
    },
    {
      "cell_type": "markdown",
      "metadata": {
        "id": "310LoOYDErBj"
      },
      "source": [
        "## 9. Noise adding\n",
        "\n"
      ]
    },
    {
      "cell_type": "markdown",
      "metadata": {
        "id": "NKOS9npsJEKu"
      },
      "source": [
        "### Add gaussian noise to 5 images\n",
        "\n",
        "We  randomly choose 5 images from the Fashion MNIST dataset and add gaussian noise to them.\n"
      ]
    },
    {
      "cell_type": "code",
      "metadata": {
        "id": "bJjdYKr8GMVq"
      },
      "source": [
        "VARIANCE_NOISE = 0.001\n",
        "SD_NOISE = math.sqrt(VARIANCE_NOISE)\n",
        "orig_imgs = []\n",
        "noisy_imgs = []\n",
        "\n",
        "for i in range(5):\n",
        "    # generate a random index\n",
        "    sample_idx = torch.randint(len(train_set), size=(1,)).item()\n",
        "    # get an image from the training set\n",
        "    img, _ = train_set[sample_idx]\n",
        "    orig_imgs.append(img)\n",
        "\n",
        "    # add gaussian noise to the image\n",
        "    img_noisy = img + torch.randn(img.shape) * SD_NOISE\n",
        "    # clip the pixel values into the range [0,1]\n",
        "    img_noisy = np.clip(img_noisy, 0., 1.)\n",
        "    noisy_imgs.append(img_noisy) "
      ],
      "execution_count": null,
      "outputs": []
    },
    {
      "cell_type": "markdown",
      "metadata": {
        "id": "GJGDSXkIJFat"
      },
      "source": [
        "### Visualize original and noisy images"
      ]
    },
    {
      "cell_type": "markdown",
      "metadata": {
        "id": "dZdrft_gLSmd"
      },
      "source": [
        "We then visualize the previously selected samples in a 2x5 grid: on the top row there are the original images, and on the bottom row the noisy images."
      ]
    },
    {
      "cell_type": "code",
      "metadata": {
        "colab": {
          "base_uri": "https://localhost:8080/",
          "height": 425
        },
        "id": "_2qkBZROLSyK",
        "outputId": "755631ec-e766-4a4e-965a-c63c7ca2a2a6"
      },
      "source": [
        "# visualize original and noisy images\n",
        "figure = plt.figure(figsize=(16, 7))\n",
        "cols, rows = 5, 2\n",
        "for i in range(cols):\n",
        "    # original images\n",
        "    figure.add_subplot(rows, cols, i+1)\n",
        "    plt.title('image no. {}, original'.format(i+1))\n",
        "    plt.imshow(torch.squeeze(orig_imgs[i]), cmap=\"gray_r\")\n",
        "\n",
        "    # noisy images\n",
        "    figure.add_subplot(rows, cols, i+cols+1)\n",
        "    plt.title('image no. {}, noisy\\n gaussian noise var. {}'.format(i+1,\n",
        "                                                             VARIANCE_NOISE)) \n",
        "    plt.imshow(torch.squeeze(noisy_imgs[i]), cmap=\"gray_r\")\n",
        "plt.show()"
      ],
      "execution_count": null,
      "outputs": [
        {
          "output_type": "display_data",
          "data": {
            "image/png": "[encoded data removed]",
            "text/plain": [
              "<Figure size 1152x504 with 10 Axes>"
            ]
          },
          "metadata": {
            "tags": [],
            "needs_background": "light"
          }
        }
      ]
    },
    {
      "cell_type": "markdown",
      "metadata": {
        "id": "7RhF8iPaHO0y"
      },
      "source": [
        "## 10. Noise removing"
      ]
    },
    {
      "cell_type": "markdown",
      "metadata": {
        "id": "Gdgacd1vJR6U"
      },
      "source": [
        "### Define and add a gaussian filter\n",
        "\n",
        "We define the mask of a 3x3 gaussian filter with the `torchgeometry` package."
      ]
    },
    {
      "cell_type": "code",
      "metadata": {
        "colab": {
          "base_uri": "https://localhost:8080/"
        },
        "id": "0AA1MEj4OW-j",
        "outputId": "a3696235-3299-4e5e-b625-4692fae867a8"
      },
      "source": [
        "!pip install torchgeometry"
      ],
      "execution_count": null,
      "outputs": [
        {
          "output_type": "stream",
          "text": [
            "Collecting torchgeometry\n",
            "\u001b[?25l  Downloading https://files.pythonhosted.org/packages/a6/d6/3f6820c0589bc3876080c59b58a3bad11af746a7b46f364b1cde7972bd72/torchgeometry-0.1.2-py2.py3-none-any.whl (42kB)\n",
            "\r\u001b[K     |███████▋                        | 10kB 15.4MB/s eta 0:00:01\r\u001b[K     |███████████████▎                | 20kB 10.3MB/s eta 0:00:01\r\u001b[K     |███████████████████████         | 30kB 7.9MB/s eta 0:00:01\r\u001b[K     |██████████████████████████████▋ | 40kB 7.1MB/s eta 0:00:01\r\u001b[K     |████████████████████████████████| 51kB 2.6MB/s \n",
            "\u001b[?25hRequirement already satisfied: torch>=1.0.0 in /usr/local/lib/python3.7/dist-packages (from torchgeometry) (1.8.0+cu101)\n",
            "Requirement already satisfied: typing-extensions in /usr/local/lib/python3.7/dist-packages (from torch>=1.0.0->torchgeometry) (3.7.4.3)\n",
            "Requirement already satisfied: numpy in /usr/local/lib/python3.7/dist-packages (from torch>=1.0.0->torchgeometry) (1.19.5)\n",
            "Installing collected packages: torchgeometry\n",
            "Successfully installed torchgeometry-0.1.2\n"
          ],
          "name": "stdout"
        }
      ]
    },
    {
      "cell_type": "code",
      "metadata": {
        "colab": {
          "base_uri": "https://localhost:8080/"
        },
        "id": "GdWyZQz_LztX",
        "outputId": "16260021-5f4f-4ca0-c580-4930f621ec78"
      },
      "source": [
        "import torchgeometry as tgm\n",
        "\n",
        "VARIANCE_FILTER = 0.5\n",
        "SD_FILTER = math.sqrt(VARIANCE_FILTER)\n",
        "\n",
        "# get gaussian filter matrix coefficients\n",
        "gaussian_filter_mask = tgm.image.get_gaussian_kernel2d((3, 3), (SD_FILTER, SD_FILTER))\n",
        "# add 2 dimensions to the filter for Batch and Channel\n",
        "gaussian_filter_mask = gaussian_filter_mask.unsqueeze(0).unsqueeze(0)\n",
        "\n",
        "# check if the filter shape is correct and visualize it\n",
        "print(gaussian_filter_mask.shape) # [B, C, H, W]\n",
        "print(gaussian_filter_mask)"
      ],
      "execution_count": null,
      "outputs": [
        {
          "output_type": "stream",
          "text": [
            "torch.Size([1, 1, 3, 3])\n",
            "tensor([[[[0.0449, 0.1221, 0.0449],\n",
            "          [0.1221, 0.3319, 0.1221],\n",
            "          [0.0449, 0.1221, 0.0449]]]])\n"
          ],
          "name": "stdout"
        }
      ]
    },
    {
      "cell_type": "markdown",
      "metadata": {
        "id": "uUMxrbHecHjI"
      },
      "source": [
        "Let's apply the gaussian filter to the 5 images."
      ]
    },
    {
      "cell_type": "code",
      "metadata": {
        "id": "H-vjq9ZlcIKd"
      },
      "source": [
        "denoised_imgs = []\n",
        "\n",
        "for i in range(5):\n",
        "    # apply the layer\n",
        "    out_img = nn.functional.conv2d(noisy_imgs[i].unsqueeze(0),\n",
        "                                  gaussian_filter_mask, \n",
        "                                  stride=1, \n",
        "                                  padding=1)\n",
        "    denoised_imgs.append(out_img)"
      ],
      "execution_count": null,
      "outputs": []
    },
    {
      "cell_type": "markdown",
      "metadata": {
        "id": "WVX7JTimJV-l"
      },
      "source": [
        "### Visualize original, noisy, and filtered images\n",
        "\n",
        "We visualize all the images in a 3x5 grid: on the top row there are the original images, on the second row the noisy images, and on the bottom row the denoised images."
      ]
    },
    {
      "cell_type": "code",
      "metadata": {
        "colab": {
          "base_uri": "https://localhost:8080/",
          "height": 640
        },
        "id": "y4vyZBJmeLsL",
        "outputId": "b8670b2a-ee93-4cbb-94db-5a130d1fb073"
      },
      "source": [
        "# visualize original and noisy images\n",
        "figure = plt.figure(figsize=(16, 11))\n",
        "cols, rows = 5, 3\n",
        "for i in range(cols):\n",
        "    # original images\n",
        "    figure.add_subplot(rows, cols, i+1)\n",
        "    plt.title('image no. {}, original'.format(i+1))\n",
        "    plt.imshow(torch.squeeze(orig_imgs[i]), cmap=\"gray_r\")\n",
        "\n",
        "    # noisy images\n",
        "    figure.add_subplot(rows, cols, i+cols+1)\n",
        "    plt.title('image no. {}, noisy\\n gaussian noise var. {}'.format(i+1,\n",
        "                                                             VARIANCE_NOISE))  \n",
        "    plt.imshow(torch.squeeze(noisy_imgs[i]), cmap=\"gray_r\")\n",
        "\n",
        "    # denoised images\n",
        "    figure.add_subplot(rows, cols, i+2*cols+1)\n",
        "    plt.title('image no. {}, denoised\\n gaussian filter var. {}'.format(i+1,\n",
        "                                                             VARIANCE_FILTER))\n",
        "    plt.imshow(torch.squeeze(denoised_imgs[i]), cmap=\"gray_r\")\n",
        "plt.show()"
      ],
      "execution_count": null,
      "outputs": [
        {
          "output_type": "display_data",
          "data": {
            "image/png": "[encoded data removed]",
            "text/plain": [
              "<Figure size 1152x792 with 15 Axes>"
            ]
          },
          "metadata": {
            "tags": [],
            "needs_background": "light"
          }
        }
      ]
    },
    {
      "cell_type": "markdown",
      "metadata": {
        "id": "eaGtxwJKHYTo"
      },
      "source": [
        "## 11. Test and performance evaluations\n",
        "\n",
        "We compute the MSE between the noisy images and the reconstructed images, and also between the original images and the reconstructed images."
      ]
    },
    {
      "cell_type": "code",
      "metadata": {
        "colab": {
          "base_uri": "https://localhost:8080/"
        },
        "id": "ZQUxy4QVeGrw",
        "outputId": "263b5021-9da5-470c-c0bd-efcc689eb069"
      },
      "source": [
        "def MSE_between_images(imgs_list1, imgs_list2):\n",
        "    MSE_list = []\n",
        "    i = 1\n",
        "    # iterate through two lists of images\n",
        "    for a, b in zip(imgs_list1, imgs_list2):\n",
        "        error = nn.MSELoss()\n",
        "        MSE_error = error(a, b) #calculate the MSE\n",
        "        MSE_list.append(MSE_error)\n",
        "        print(\"MSE image {}: {:.4f}\".format(i, MSE_error))\n",
        "        i+=1\n",
        "    mean_MSE = sum(MSE_list) / len(MSE_list) #calculate the average MSE\n",
        "    print(\"The average MSE is {:.4f}\".format(mean_MSE))\n",
        "\n",
        "denoised_imgs_3d = [denoised.squeeze(0) for denoised in denoised_imgs]\n",
        "print(\"MSE between noisy images and denoised images\")\n",
        "MSE_between_images(noisy_imgs, denoised_imgs_3d)\n",
        "\n",
        "print(\"\\nMSE between original images and denoised images\")\n",
        "MSE_between_images(orig_imgs, denoised_imgs_3d)"
      ],
      "execution_count": null,
      "outputs": [
        {
          "output_type": "stream",
          "text": [
            "MSE between noisy images and denoised images\n",
            "MSE image 1: 0.0027\n",
            "MSE image 2: 0.0074\n",
            "MSE image 3: 0.0093\n",
            "MSE image 4: 0.0106\n",
            "MSE image 5: 0.0072\n",
            "The average MSE is 0.0074\n",
            "\n",
            "MSE between original images and denoised images\n",
            "MSE image 1: 0.5598\n",
            "MSE image 2: 0.5947\n",
            "MSE image 3: 0.7586\n",
            "MSE image 4: 0.7415\n",
            "MSE image 5: 0.4583\n",
            "The average MSE is 0.6226\n"
          ],
          "name": "stdout"
        }
      ]
    },
    {
      "cell_type": "markdown",
      "metadata": {
        "id": "4l9mZL0nEuGP"
      },
      "source": [
        "## 12. Results, observations and conclusions\n",
        "\n",
        "The Gaussian filter allows to obtain a noise reduction with a MSE of 0.0078, and to recover the original image information with and MSE of 0.7119.\n",
        "\n",
        "The resulting denoised images look good, albeit a bit blurry. They are also lighter in colour. This phenomenon could be explained by the fact that after adding the noise we clip the pixel values into the range [0,1] with `np.clip`. By doing so we might \"flatten\" some shades of grey.\n",
        "\n",
        "Playing with the variance values both for adding gaussian noise to the original images and for constructing the Gaussian filter gives us different results. In particular, the variance for the Gaussian filter should not be too low. If this variance is a low enough value, the weights of the kernel will be so low that will have no effect on the image."
      ]
    },
    {
      "cell_type": "markdown",
      "metadata": {
        "id": "bXxW8PDJExBI"
      },
      "source": [
        "## 13. Comparison between NN and traditional technique\n",
        "\n",
        "We implemented both a Denoising Convolutional Autoencoder Network for image reconstruction and a \"traditional\" convolution to denoise images, and analyzed the results.\n",
        "\n",
        "To summarize the outcomes of these two techniques, we can visualize in a single figure an original image, the same image with added noise, and the denoised figure both with the neural network and with the gaussian filter."
      ]
    },
    {
      "cell_type": "code",
      "metadata": {
        "id": "pwmM7sSqlh52"
      },
      "source": [
        "def compare_denoising_techniques(model, train_set, std_dev, filter_mask):\n",
        "    # select a random image from the training set\n",
        "    idx = torch.randint(len(train_set), size=(1,)).item()\n",
        "    original, _ = train_set[idx]\n",
        "\n",
        "    # add gaussian noise\n",
        "    noisy_img = original + torch.randn(original.shape) * std_dev\n",
        "    noisy_img = np.clip(noisy_img, 0., 1.)\n",
        "\n",
        "    # denoise the image with the nn\n",
        "    noisy_img_nn = noisy_img.to(device)\n",
        "    denoised_nn = model(noisy_img_nn.unsqueeze(0))\n",
        "    denoised_nn = denoised_nn.view(denoised_nn.size(0), 1, 28, 28).cpu().data\n",
        "\n",
        "    # denoise the image with the gaussian filter\n",
        "    denoised_classic = nn.functional.conv2d(noisy_img.unsqueeze(0),\n",
        "                                            filter_mask, \n",
        "                                            stride=1, \n",
        "                                            padding=1)\n",
        "\n",
        "    # visualize the 4 images\n",
        "    figure = plt.figure(figsize=(12, 8))\n",
        "    # original\n",
        "    figure.add_subplot(1, 4, 1)\n",
        "    plt.title(\"original\")\n",
        "    plt.imshow(torch.squeeze(original), cmap=\"gray_r\")\n",
        "    # noisy\n",
        "    figure.add_subplot(1, 4, 2)\n",
        "    plt.title(\"noisy\")\n",
        "    plt.imshow(torch.squeeze(noisy_img), cmap=\"gray_r\")\n",
        "    # denoised with nn\n",
        "    figure.add_subplot(1, 4, 3)\n",
        "    plt.title(\"denoised NN\")\n",
        "    plt.imshow(torch.squeeze(denoised_nn), cmap=\"gray_r\")\n",
        "    # denoised with gaussian filter\n",
        "    figure.add_subplot(1, 4, 4)\n",
        "    plt.title(\"denoised classic\")\n",
        "    plt.imshow(torch.squeeze(denoised_classic), cmap=\"gray_r\")\n",
        "\n",
        "    plt.show()"
      ],
      "execution_count": null,
      "outputs": []
    },
    {
      "cell_type": "code",
      "metadata": {
        "colab": {
          "base_uri": "https://localhost:8080/",
          "height": 593
        },
        "id": "FkTvKommblsg",
        "outputId": "6308a908-b029-4e30-f08e-aa019735cb85"
      },
      "source": [
        "N = 3 #how many different samples to visualize\n",
        "for i in range(N):\n",
        "    compare_denoising_techniques(model, train_set, SD_NOISE, gaussian_filter_mask)"
      ],
      "execution_count": null,
      "outputs": [
        {
          "output_type": "display_data",
          "data": {
            "image/png": "[encoded data removed]",
            "text/plain": [
              "<Figure size 864x576 with 4 Axes>"
            ]
          },
          "metadata": {
            "tags": [],
            "needs_background": "light"
          }
        },
        {
          "output_type": "display_data",
          "data": {
            "image/png": "[encoded data removed]",
            "text/plain": [
              "<Figure size 864x576 with 4 Axes>"
            ]
          },
          "metadata": {
            "tags": [],
            "needs_background": "light"
          }
        },
        {
          "output_type": "display_data",
          "data": {
            "image/png": "[encoded data removed]",
            "text/plain": [
              "<Figure size 864x576 with 4 Axes>"
            ]
          },
          "metadata": {
            "tags": [],
            "needs_background": "light"
          }
        }
      ]
    },
    {
      "cell_type": "markdown",
      "metadata": {
        "id": "UsDbcOx6oZZl"
      },
      "source": [
        "Let's analyze the MSE of the two techniques.\n",
        "\n",
        "| technique\\MSE              | noisy - denoised | original - denoised |\n",
        "|----------------------------|------------------|--------------------|\n",
        "| Autoencoder Neural network |      0.0201      |       0.6615       |\n",
        "| Gaussian Filter            |      0.0078      |       0.7119       |\n",
        "\n",
        "The Autoencoder Network seems to perform better at retrieving the original information, even if the MSE between the noisy and the reconstructed images is lower for the traditional Gaussian filter.\n",
        "\n",
        "Looking at the last figure, it looks like that the neural network learned to reconstruct the piece of clothing by \"guessing\" the class it belongs, even if this type of NN learning is unsupervised. This can be noticed by looking at the shape of the denoised clothes: it seems like the autoencoder extracted some general features belonging to the type of clothing during the training, and applied them to the noisy image to reconstruct it.\n"
      ]
    },
    {
      "cell_type": "markdown",
      "metadata": {
        "id": "QLHLMlxvEzqw"
      },
      "source": [
        "# Part V: Code"
      ]
    },
    {
      "cell_type": "markdown",
      "metadata": {
        "id": "VUxMn5CME0r7"
      },
      "source": [
        "## 14. Full code (part IV)\n"
      ]
    },
    {
      "cell_type": "markdown",
      "metadata": {
        "id": "Pc-MZGU_dzb-"
      },
      "source": [
        "---\n",
        "## Bibliography\n",
        "\n",
        "1. [Netron](https://netron.app/) - Visualizer for neural network, deep learning, and machine learning models.\n",
        "2. [Autoencoder Neural Network: Application to Image Denoising](https://debuggercafe.com/autoencoder-neural-network-application-to-image-denoising/)"
      ]
    }
  ]
}